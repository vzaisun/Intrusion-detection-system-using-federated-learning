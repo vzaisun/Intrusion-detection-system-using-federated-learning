{
  "nbformat": 4,
  "nbformat_minor": 0,
  "metadata": {
    "colab": {
      "provenance": [],
      "authorship_tag": "ABX9TyPa5Y8x3RTV7j6zHiwgDHR3",
      "include_colab_link": true
    },
    "kernelspec": {
      "name": "python3",
      "display_name": "Python 3"
    },
    "language_info": {
      "name": "python"
    }
  },
  "cells": [
    {
      "cell_type": "markdown",
      "metadata": {
        "id": "view-in-github",
        "colab_type": "text"
      },
      "source": [
        "<a href=\"https://colab.research.google.com/github/vzaisun/Intrusion-detection-system-using-federated-learning/blob/main/TFF_for_IEC_Using_other_metrics.ipynb\" target=\"_parent\"><img src=\"https://colab.research.google.com/assets/colab-badge.svg\" alt=\"Open In Colab\"/></a>"
      ]
    },
    {
      "cell_type": "code",
      "execution_count": 1,
      "metadata": {
        "colab": {
          "base_uri": "https://localhost:8080/",
          "height": 35
        },
        "id": "wQZ7SHgdDIVm",
        "outputId": "d181a3f2-906a-4750-f128-26462c4e44ee"
      },
      "outputs": [
        {
          "output_type": "execute_result",
          "data": {
            "text/plain": [
              "'2.14.1'"
            ],
            "application/vnd.google.colaboratory.intrinsic+json": {
              "type": "string"
            }
          },
          "metadata": {},
          "execution_count": 1
        }
      ],
      "source": [
        "import tensorflow as tf\n",
        "tf.__version__"
      ]
    },
    {
      "cell_type": "code",
      "source": [
        "!pip install tensorflow-federated\n",
        ""
      ],
      "metadata": {
        "colab": {
          "base_uri": "https://localhost:8080/"
        },
        "id": "7LVFIGDODM9u",
        "outputId": "49f87682-9209-40fd-9439-56b1d9ac2e17"
      },
      "execution_count": 2,
      "outputs": [
        {
          "output_type": "stream",
          "name": "stdout",
          "text": [
            "Requirement already satisfied: tensorflow-federated in /usr/local/lib/python3.10/dist-packages (0.73.0)\n",
            "Requirement already satisfied: absl-py==1.*,>=1.0 in /usr/local/lib/python3.10/dist-packages (from tensorflow-federated) (1.4.0)\n",
            "Requirement already satisfied: attrs~=23.1 in /usr/local/lib/python3.10/dist-packages (from tensorflow-federated) (23.1.0)\n",
            "Requirement already satisfied: cachetools~=5.3 in /usr/local/lib/python3.10/dist-packages (from tensorflow-federated) (5.3.3)\n",
            "Requirement already satisfied: dm-tree==0.1.8 in /usr/local/lib/python3.10/dist-packages (from tensorflow-federated) (0.1.8)\n",
            "Requirement already satisfied: dp-accounting==0.4.3 in /usr/local/lib/python3.10/dist-packages (from tensorflow-federated) (0.4.3)\n",
            "Requirement already satisfied: farmhashpy==0.4.0 in /usr/local/lib/python3.10/dist-packages (from tensorflow-federated) (0.4.0)\n",
            "Requirement already satisfied: google-vizier==0.1.11 in /usr/local/lib/python3.10/dist-packages (from tensorflow-federated) (0.1.11)\n",
            "Requirement already satisfied: grpcio~=1.46 in /usr/local/lib/python3.10/dist-packages (from tensorflow-federated) (1.62.1)\n",
            "Requirement already satisfied: jaxlib==0.4.14 in /usr/local/lib/python3.10/dist-packages (from tensorflow-federated) (0.4.14)\n",
            "Requirement already satisfied: jax==0.4.14 in /usr/local/lib/python3.10/dist-packages (from tensorflow-federated) (0.4.14)\n",
            "Requirement already satisfied: numpy~=1.25 in /usr/local/lib/python3.10/dist-packages (from tensorflow-federated) (1.25.2)\n",
            "Requirement already satisfied: portpicker~=1.6 in /usr/local/lib/python3.10/dist-packages (from tensorflow-federated) (1.6.0)\n",
            "Requirement already satisfied: scipy~=1.9.3 in /usr/local/lib/python3.10/dist-packages (from tensorflow-federated) (1.9.3)\n",
            "Requirement already satisfied: semantic-version~=2.6 in /usr/local/lib/python3.10/dist-packages (from tensorflow-federated) (2.10.0)\n",
            "Requirement already satisfied: tensorflow-compression==2.14.*,>=2.14.0 in /usr/local/lib/python3.10/dist-packages (from tensorflow-federated) (2.14.0)\n",
            "Requirement already satisfied: tensorflow-model-optimization==0.7.5 in /usr/local/lib/python3.10/dist-packages (from tensorflow-federated) (0.7.5)\n",
            "Requirement already satisfied: tensorflow-privacy==0.9.0 in /usr/local/lib/python3.10/dist-packages (from tensorflow-federated) (0.9.0)\n",
            "Requirement already satisfied: tensorflow==2.14.*,>=2.14.0 in /usr/local/lib/python3.10/dist-packages (from tensorflow-federated) (2.14.1)\n",
            "Requirement already satisfied: tqdm~=4.64 in /usr/local/lib/python3.10/dist-packages (from tensorflow-federated) (4.66.2)\n",
            "Requirement already satisfied: typing-extensions==4.5.*,>=4.5.0 in /usr/local/lib/python3.10/dist-packages (from tensorflow-federated) (4.5.0)\n",
            "Requirement already satisfied: googleapis-common-protos==1.61.0 in /usr/local/lib/python3.10/dist-packages (from tensorflow-federated) (1.61.0)\n",
            "Requirement already satisfied: mpmath~=1.2 in /usr/local/lib/python3.10/dist-packages (from dp-accounting==0.4.3->tensorflow-federated) (1.3.0)\n",
            "Requirement already satisfied: protobuf>=3.6 in /usr/local/lib/python3.10/dist-packages (from google-vizier==0.1.11->tensorflow-federated) (4.25.3)\n",
            "Requirement already satisfied: grpcio-tools>=1.35.0 in /usr/local/lib/python3.10/dist-packages (from google-vizier==0.1.11->tensorflow-federated) (1.62.1)\n",
            "Requirement already satisfied: sqlalchemy<=1.4.20,>=1.4 in /usr/local/lib/python3.10/dist-packages (from google-vizier==0.1.11->tensorflow-federated) (1.4.20)\n",
            "Requirement already satisfied: ml-dtypes>=0.2.0 in /usr/local/lib/python3.10/dist-packages (from jax==0.4.14->tensorflow-federated) (0.2.0)\n",
            "Requirement already satisfied: opt-einsum in /usr/local/lib/python3.10/dist-packages (from jax==0.4.14->tensorflow-federated) (3.3.0)\n",
            "Requirement already satisfied: astunparse>=1.6.0 in /usr/local/lib/python3.10/dist-packages (from tensorflow==2.14.*,>=2.14.0->tensorflow-federated) (1.6.3)\n",
            "Requirement already satisfied: flatbuffers>=23.5.26 in /usr/local/lib/python3.10/dist-packages (from tensorflow==2.14.*,>=2.14.0->tensorflow-federated) (24.3.7)\n",
            "Requirement already satisfied: gast!=0.5.0,!=0.5.1,!=0.5.2,>=0.2.1 in /usr/local/lib/python3.10/dist-packages (from tensorflow==2.14.*,>=2.14.0->tensorflow-federated) (0.5.4)\n",
            "Requirement already satisfied: google-pasta>=0.1.1 in /usr/local/lib/python3.10/dist-packages (from tensorflow==2.14.*,>=2.14.0->tensorflow-federated) (0.2.0)\n",
            "Requirement already satisfied: h5py>=2.9.0 in /usr/local/lib/python3.10/dist-packages (from tensorflow==2.14.*,>=2.14.0->tensorflow-federated) (3.9.0)\n",
            "Requirement already satisfied: libclang>=13.0.0 in /usr/local/lib/python3.10/dist-packages (from tensorflow==2.14.*,>=2.14.0->tensorflow-federated) (16.0.6)\n",
            "Requirement already satisfied: packaging in /usr/local/lib/python3.10/dist-packages (from tensorflow==2.14.*,>=2.14.0->tensorflow-federated) (22.0)\n",
            "Requirement already satisfied: setuptools in /usr/local/lib/python3.10/dist-packages (from tensorflow==2.14.*,>=2.14.0->tensorflow-federated) (67.7.2)\n",
            "Requirement already satisfied: six>=1.12.0 in /usr/local/lib/python3.10/dist-packages (from tensorflow==2.14.*,>=2.14.0->tensorflow-federated) (1.16.0)\n",
            "Requirement already satisfied: termcolor>=1.1.0 in /usr/local/lib/python3.10/dist-packages (from tensorflow==2.14.*,>=2.14.0->tensorflow-federated) (2.4.0)\n",
            "Requirement already satisfied: wrapt<1.15,>=1.11.0 in /usr/local/lib/python3.10/dist-packages (from tensorflow==2.14.*,>=2.14.0->tensorflow-federated) (1.14.1)\n",
            "Requirement already satisfied: tensorflow-io-gcs-filesystem>=0.23.1 in /usr/local/lib/python3.10/dist-packages (from tensorflow==2.14.*,>=2.14.0->tensorflow-federated) (0.36.0)\n",
            "Requirement already satisfied: tensorboard<2.15,>=2.14 in /usr/local/lib/python3.10/dist-packages (from tensorflow==2.14.*,>=2.14.0->tensorflow-federated) (2.14.1)\n",
            "Requirement already satisfied: tensorflow-estimator<2.15,>=2.14.0 in /usr/local/lib/python3.10/dist-packages (from tensorflow==2.14.*,>=2.14.0->tensorflow-federated) (2.14.0)\n",
            "Requirement already satisfied: keras<2.15,>=2.14.0 in /usr/local/lib/python3.10/dist-packages (from tensorflow==2.14.*,>=2.14.0->tensorflow-federated) (2.14.0)\n",
            "Requirement already satisfied: tensorflow-probability~=0.15 in /usr/local/lib/python3.10/dist-packages (from tensorflow-compression==2.14.*,>=2.14.0->tensorflow-federated) (0.22.1)\n",
            "Requirement already satisfied: scikit-learn==1.*,>=1.0 in /usr/local/lib/python3.10/dist-packages (from tensorflow-privacy==0.9.0->tensorflow-federated) (1.2.2)\n",
            "Requirement already satisfied: joblib>=1.1.1 in /usr/local/lib/python3.10/dist-packages (from scikit-learn==1.*,>=1.0->tensorflow-privacy==0.9.0->tensorflow-federated) (1.3.2)\n",
            "Requirement already satisfied: threadpoolctl>=2.0.0 in /usr/local/lib/python3.10/dist-packages (from scikit-learn==1.*,>=1.0->tensorflow-privacy==0.9.0->tensorflow-federated) (3.3.0)\n",
            "Requirement already satisfied: psutil in /usr/local/lib/python3.10/dist-packages (from portpicker~=1.6->tensorflow-federated) (5.9.5)\n",
            "Requirement already satisfied: wheel<1.0,>=0.23.0 in /usr/local/lib/python3.10/dist-packages (from astunparse>=1.6.0->tensorflow==2.14.*,>=2.14.0->tensorflow-federated) (0.43.0)\n",
            "Requirement already satisfied: greenlet!=0.4.17 in /usr/local/lib/python3.10/dist-packages (from sqlalchemy<=1.4.20,>=1.4->google-vizier==0.1.11->tensorflow-federated) (3.0.3)\n",
            "Requirement already satisfied: google-auth<3,>=1.6.3 in /usr/local/lib/python3.10/dist-packages (from tensorboard<2.15,>=2.14->tensorflow==2.14.*,>=2.14.0->tensorflow-federated) (2.27.0)\n",
            "Requirement already satisfied: google-auth-oauthlib<1.1,>=0.5 in /usr/local/lib/python3.10/dist-packages (from tensorboard<2.15,>=2.14->tensorflow==2.14.*,>=2.14.0->tensorflow-federated) (1.0.0)\n",
            "Requirement already satisfied: markdown>=2.6.8 in /usr/local/lib/python3.10/dist-packages (from tensorboard<2.15,>=2.14->tensorflow==2.14.*,>=2.14.0->tensorflow-federated) (3.5.2)\n",
            "Requirement already satisfied: requests<3,>=2.21.0 in /usr/local/lib/python3.10/dist-packages (from tensorboard<2.15,>=2.14->tensorflow==2.14.*,>=2.14.0->tensorflow-federated) (2.31.0)\n",
            "Requirement already satisfied: tensorboard-data-server<0.8.0,>=0.7.0 in /usr/local/lib/python3.10/dist-packages (from tensorboard<2.15,>=2.14->tensorflow==2.14.*,>=2.14.0->tensorflow-federated) (0.7.2)\n",
            "Requirement already satisfied: werkzeug>=1.0.1 in /usr/local/lib/python3.10/dist-packages (from tensorboard<2.15,>=2.14->tensorflow==2.14.*,>=2.14.0->tensorflow-federated) (3.0.1)\n",
            "Requirement already satisfied: decorator in /usr/local/lib/python3.10/dist-packages (from tensorflow-probability~=0.15->tensorflow-compression==2.14.*,>=2.14.0->tensorflow-federated) (4.4.2)\n",
            "Requirement already satisfied: cloudpickle>=1.3 in /usr/local/lib/python3.10/dist-packages (from tensorflow-probability~=0.15->tensorflow-compression==2.14.*,>=2.14.0->tensorflow-federated) (2.2.1)\n",
            "Requirement already satisfied: pyasn1-modules>=0.2.1 in /usr/local/lib/python3.10/dist-packages (from google-auth<3,>=1.6.3->tensorboard<2.15,>=2.14->tensorflow==2.14.*,>=2.14.0->tensorflow-federated) (0.3.0)\n",
            "Requirement already satisfied: rsa<5,>=3.1.4 in /usr/local/lib/python3.10/dist-packages (from google-auth<3,>=1.6.3->tensorboard<2.15,>=2.14->tensorflow==2.14.*,>=2.14.0->tensorflow-federated) (4.9)\n",
            "Requirement already satisfied: requests-oauthlib>=0.7.0 in /usr/local/lib/python3.10/dist-packages (from google-auth-oauthlib<1.1,>=0.5->tensorboard<2.15,>=2.14->tensorflow==2.14.*,>=2.14.0->tensorflow-federated) (1.4.0)\n",
            "Requirement already satisfied: charset-normalizer<4,>=2 in /usr/local/lib/python3.10/dist-packages (from requests<3,>=2.21.0->tensorboard<2.15,>=2.14->tensorflow==2.14.*,>=2.14.0->tensorflow-federated) (3.3.2)\n",
            "Requirement already satisfied: idna<4,>=2.5 in /usr/local/lib/python3.10/dist-packages (from requests<3,>=2.21.0->tensorboard<2.15,>=2.14->tensorflow==2.14.*,>=2.14.0->tensorflow-federated) (3.6)\n",
            "Requirement already satisfied: urllib3<3,>=1.21.1 in /usr/local/lib/python3.10/dist-packages (from requests<3,>=2.21.0->tensorboard<2.15,>=2.14->tensorflow==2.14.*,>=2.14.0->tensorflow-federated) (2.0.7)\n",
            "Requirement already satisfied: certifi>=2017.4.17 in /usr/local/lib/python3.10/dist-packages (from requests<3,>=2.21.0->tensorboard<2.15,>=2.14->tensorflow==2.14.*,>=2.14.0->tensorflow-federated) (2024.2.2)\n",
            "Requirement already satisfied: MarkupSafe>=2.1.1 in /usr/local/lib/python3.10/dist-packages (from werkzeug>=1.0.1->tensorboard<2.15,>=2.14->tensorflow==2.14.*,>=2.14.0->tensorflow-federated) (2.1.5)\n",
            "Requirement already satisfied: pyasn1<0.6.0,>=0.4.6 in /usr/local/lib/python3.10/dist-packages (from pyasn1-modules>=0.2.1->google-auth<3,>=1.6.3->tensorboard<2.15,>=2.14->tensorflow==2.14.*,>=2.14.0->tensorflow-federated) (0.5.1)\n",
            "Requirement already satisfied: oauthlib>=3.0.0 in /usr/local/lib/python3.10/dist-packages (from requests-oauthlib>=0.7.0->google-auth-oauthlib<1.1,>=0.5->tensorboard<2.15,>=2.14->tensorflow==2.14.*,>=2.14.0->tensorflow-federated) (3.2.2)\n"
          ]
        }
      ]
    },
    {
      "cell_type": "code",
      "source": [
        "!pip install nest-asyncio\n",
        "!pip install pandas\n",
        "!pip install matplotlib"
      ],
      "metadata": {
        "colab": {
          "base_uri": "https://localhost:8080/"
        },
        "id": "SDLQaroZDO8m",
        "outputId": "9b80920d-eeb7-4d15-b957-32b19c5e35e3"
      },
      "execution_count": 3,
      "outputs": [
        {
          "output_type": "stream",
          "name": "stdout",
          "text": [
            "Requirement already satisfied: nest-asyncio in /usr/local/lib/python3.10/dist-packages (1.6.0)\n",
            "Requirement already satisfied: pandas in /usr/local/lib/python3.10/dist-packages (1.5.3)\n",
            "Requirement already satisfied: python-dateutil>=2.8.1 in /usr/local/lib/python3.10/dist-packages (from pandas) (2.8.2)\n",
            "Requirement already satisfied: pytz>=2020.1 in /usr/local/lib/python3.10/dist-packages (from pandas) (2023.4)\n",
            "Requirement already satisfied: numpy>=1.21.0 in /usr/local/lib/python3.10/dist-packages (from pandas) (1.25.2)\n",
            "Requirement already satisfied: six>=1.5 in /usr/local/lib/python3.10/dist-packages (from python-dateutil>=2.8.1->pandas) (1.16.0)\n",
            "Requirement already satisfied: matplotlib in /usr/local/lib/python3.10/dist-packages (3.7.1)\n",
            "Requirement already satisfied: contourpy>=1.0.1 in /usr/local/lib/python3.10/dist-packages (from matplotlib) (1.2.0)\n",
            "Requirement already satisfied: cycler>=0.10 in /usr/local/lib/python3.10/dist-packages (from matplotlib) (0.12.1)\n",
            "Requirement already satisfied: fonttools>=4.22.0 in /usr/local/lib/python3.10/dist-packages (from matplotlib) (4.49.0)\n",
            "Requirement already satisfied: kiwisolver>=1.0.1 in /usr/local/lib/python3.10/dist-packages (from matplotlib) (1.4.5)\n",
            "Requirement already satisfied: numpy>=1.20 in /usr/local/lib/python3.10/dist-packages (from matplotlib) (1.25.2)\n",
            "Requirement already satisfied: packaging>=20.0 in /usr/local/lib/python3.10/dist-packages (from matplotlib) (22.0)\n",
            "Requirement already satisfied: pillow>=6.2.0 in /usr/local/lib/python3.10/dist-packages (from matplotlib) (9.4.0)\n",
            "Requirement already satisfied: pyparsing>=2.3.1 in /usr/local/lib/python3.10/dist-packages (from matplotlib) (3.1.2)\n",
            "Requirement already satisfied: python-dateutil>=2.7 in /usr/local/lib/python3.10/dist-packages (from matplotlib) (2.8.2)\n",
            "Requirement already satisfied: six>=1.5 in /usr/local/lib/python3.10/dist-packages (from python-dateutil>=2.7->matplotlib) (1.16.0)\n"
          ]
        }
      ]
    },
    {
      "cell_type": "code",
      "source": [
        "import collections\n",
        "import os\n",
        "import pandas as pd\n",
        "import tensorflow as tf\n",
        "import tensorflow_federated as tff\n",
        "import time\n",
        "\n",
        "from matplotlib import pyplot as plt\n",
        "\n",
        "import nest_asyncio\n",
        "nest_asyncio.apply()\n",
        "\n",
        "%matplotlib inline\n",
        ""
      ],
      "metadata": {
        "id": "A_VpVIF3DTRu"
      },
      "execution_count": 4,
      "outputs": []
    },
    {
      "cell_type": "code",
      "source": [
        "n_workers = 2"
      ],
      "metadata": {
        "id": "JMC69NTJDVI8"
      },
      "execution_count": 5,
      "outputs": []
    },
    {
      "cell_type": "code",
      "source": [
        "df_train = pd.read_csv('/content/train.csv')\n",
        "df_test = pd.read_csv('/content/test.csv')"
      ],
      "metadata": {
        "id": "zWxamacHDWtq"
      },
      "execution_count": 6,
      "outputs": []
    },
    {
      "cell_type": "code",
      "source": [
        "df_train.dtypes"
      ],
      "metadata": {
        "colab": {
          "base_uri": "https://localhost:8080/"
        },
        "id": "nT9KthqGDZnv",
        "outputId": "08f22365-602a-4a31-cb34-1ec50b50d144"
      },
      "execution_count": 7,
      "outputs": [
        {
          "output_type": "execute_result",
          "data": {
            "text/plain": [
              "Flow Duration        int64\n",
              "Tot Fwd Pkts         int64\n",
              "Tot Bwd Pkts         int64\n",
              "TotLen Fwd Pkts      int64\n",
              "TotLen Bwd Pkts      int64\n",
              "                    ...   \n",
              "Idle Mean          float64\n",
              "Idle Std           float64\n",
              "Idle Max             int64\n",
              "Idle Min             int64\n",
              "Label               object\n",
              "Length: 77, dtype: object"
            ]
          },
          "metadata": {},
          "execution_count": 7
        }
      ]
    },
    {
      "cell_type": "code",
      "source": [
        "df_train.info()"
      ],
      "metadata": {
        "colab": {
          "base_uri": "https://localhost:8080/"
        },
        "id": "A2WXf3pqDbPO",
        "outputId": "a95a5030-3e4b-4036-c8f6-e0f3e16dcfe1"
      },
      "execution_count": 8,
      "outputs": [
        {
          "output_type": "stream",
          "name": "stdout",
          "text": [
            "<class 'pandas.core.frame.DataFrame'>\n",
            "RangeIndex: 3588 entries, 0 to 3587\n",
            "Data columns (total 77 columns):\n",
            " #   Column             Non-Null Count  Dtype  \n",
            "---  ------             --------------  -----  \n",
            " 0   Flow Duration      3588 non-null   int64  \n",
            " 1   Tot Fwd Pkts       3588 non-null   int64  \n",
            " 2   Tot Bwd Pkts       3588 non-null   int64  \n",
            " 3   TotLen Fwd Pkts    3588 non-null   int64  \n",
            " 4   TotLen Bwd Pkts    3588 non-null   int64  \n",
            " 5   Fwd Pkt Len Max    3588 non-null   int64  \n",
            " 6   Fwd Pkt Len Min    3588 non-null   int64  \n",
            " 7   Fwd Pkt Len Mean   3588 non-null   float64\n",
            " 8   Fwd Pkt Len Std    3588 non-null   float64\n",
            " 9   Bwd Pkt Len Max    3588 non-null   int64  \n",
            " 10  Bwd Pkt Len Min    3588 non-null   int64  \n",
            " 11  Bwd Pkt Len Mean   3588 non-null   float64\n",
            " 12  Bwd Pkt Len Std    3588 non-null   float64\n",
            " 13  Flow Byts/s        3588 non-null   float64\n",
            " 14  Flow Pkts/s        3588 non-null   float64\n",
            " 15  Flow IAT Mean      3588 non-null   float64\n",
            " 16  Flow IAT Std       3588 non-null   float64\n",
            " 17  Flow IAT Max       3588 non-null   int64  \n",
            " 18  Flow IAT Min       3588 non-null   int64  \n",
            " 19  Fwd IAT Tot        3588 non-null   int64  \n",
            " 20  Fwd IAT Mean       3588 non-null   float64\n",
            " 21  Fwd IAT Std        3588 non-null   float64\n",
            " 22  Fwd IAT Max        3588 non-null   int64  \n",
            " 23  Fwd IAT Min        3588 non-null   int64  \n",
            " 24  Bwd IAT Tot        3588 non-null   int64  \n",
            " 25  Bwd IAT Mean       3588 non-null   float64\n",
            " 26  Bwd IAT Std        3588 non-null   float64\n",
            " 27  Bwd IAT Max        3588 non-null   int64  \n",
            " 28  Bwd IAT Min        3588 non-null   int64  \n",
            " 29  Fwd PSH Flags      3588 non-null   int64  \n",
            " 30  Bwd PSH Flags      3588 non-null   int64  \n",
            " 31  Fwd URG Flags      3588 non-null   int64  \n",
            " 32  Bwd URG Flags      3588 non-null   int64  \n",
            " 33  Fwd Header Len     3588 non-null   int64  \n",
            " 34  Bwd Header Len     3588 non-null   int64  \n",
            " 35  Fwd Pkts/s         3588 non-null   float64\n",
            " 36  Bwd Pkts/s         3588 non-null   float64\n",
            " 37  Pkt Len Min        3588 non-null   int64  \n",
            " 38  Pkt Len Max        3588 non-null   int64  \n",
            " 39  Pkt Len Mean       3588 non-null   float64\n",
            " 40  Pkt Len Std        3588 non-null   float64\n",
            " 41  Pkt Len Var        3588 non-null   float64\n",
            " 42  FIN Flag Cnt       3588 non-null   int64  \n",
            " 43  SYN Flag Cnt       3588 non-null   int64  \n",
            " 44  RST Flag Cnt       3588 non-null   int64  \n",
            " 45  PSH Flag Cnt       3588 non-null   int64  \n",
            " 46  ACK Flag Cnt       3588 non-null   int64  \n",
            " 47  URG Flag Cnt       3588 non-null   int64  \n",
            " 48  CWE Flag Count     3588 non-null   int64  \n",
            " 49  ECE Flag Cnt       3588 non-null   int64  \n",
            " 50  Down/Up Ratio      3588 non-null   int64  \n",
            " 51  Pkt Size Avg       3588 non-null   float64\n",
            " 52  Fwd Seg Size Avg   3588 non-null   float64\n",
            " 53  Bwd Seg Size Avg   3588 non-null   float64\n",
            " 54  Fwd Byts/b Avg     3588 non-null   int64  \n",
            " 55  Fwd Pkts/b Avg     3588 non-null   int64  \n",
            " 56  Fwd Blk Rate Avg   3588 non-null   int64  \n",
            " 57  Bwd Byts/b Avg     3588 non-null   int64  \n",
            " 58  Bwd Pkts/b Avg     3588 non-null   int64  \n",
            " 59  Bwd Blk Rate Avg   3588 non-null   int64  \n",
            " 60  Subflow Fwd Pkts   3588 non-null   int64  \n",
            " 61  Subflow Fwd Byts   3588 non-null   int64  \n",
            " 62  Subflow Bwd Pkts   3588 non-null   int64  \n",
            " 63  Subflow Bwd Byts   3588 non-null   int64  \n",
            " 64  Init Fwd Win Byts  3588 non-null   int64  \n",
            " 65  Init Bwd Win Byts  3588 non-null   int64  \n",
            " 66  Fwd Act Data Pkts  3588 non-null   int64  \n",
            " 67  Fwd Seg Size Min   3588 non-null   int64  \n",
            " 68  Active Mean        3588 non-null   float64\n",
            " 69  Active Std         3588 non-null   float64\n",
            " 70  Active Max         3588 non-null   int64  \n",
            " 71  Active Min         3588 non-null   int64  \n",
            " 72  Idle Mean          3588 non-null   float64\n",
            " 73  Idle Std           3588 non-null   float64\n",
            " 74  Idle Max           3588 non-null   int64  \n",
            " 75  Idle Min           3588 non-null   int64  \n",
            " 76  Label              3588 non-null   object \n",
            "dtypes: float64(24), int64(52), object(1)\n",
            "memory usage: 2.1+ MB\n"
          ]
        }
      ]
    },
    {
      "cell_type": "code",
      "source": [
        "df_test.info()"
      ],
      "metadata": {
        "colab": {
          "base_uri": "https://localhost:8080/"
        },
        "id": "cnRtE1QUDe5-",
        "outputId": "501bb776-c68e-48b7-f833-c0f775f45ec9"
      },
      "execution_count": 9,
      "outputs": [
        {
          "output_type": "stream",
          "name": "stdout",
          "text": [
            "<class 'pandas.core.frame.DataFrame'>\n",
            "RangeIndex: 1536 entries, 0 to 1535\n",
            "Data columns (total 77 columns):\n",
            " #   Column             Non-Null Count  Dtype  \n",
            "---  ------             --------------  -----  \n",
            " 0   Flow Duration      1536 non-null   int64  \n",
            " 1   Tot Fwd Pkts       1536 non-null   int64  \n",
            " 2   Tot Bwd Pkts       1536 non-null   int64  \n",
            " 3   TotLen Fwd Pkts    1536 non-null   int64  \n",
            " 4   TotLen Bwd Pkts    1536 non-null   int64  \n",
            " 5   Fwd Pkt Len Max    1536 non-null   int64  \n",
            " 6   Fwd Pkt Len Min    1536 non-null   int64  \n",
            " 7   Fwd Pkt Len Mean   1536 non-null   float64\n",
            " 8   Fwd Pkt Len Std    1536 non-null   float64\n",
            " 9   Bwd Pkt Len Max    1536 non-null   int64  \n",
            " 10  Bwd Pkt Len Min    1536 non-null   int64  \n",
            " 11  Bwd Pkt Len Mean   1536 non-null   float64\n",
            " 12  Bwd Pkt Len Std    1536 non-null   float64\n",
            " 13  Flow Byts/s        1536 non-null   float64\n",
            " 14  Flow Pkts/s        1536 non-null   float64\n",
            " 15  Flow IAT Mean      1536 non-null   float64\n",
            " 16  Flow IAT Std       1536 non-null   float64\n",
            " 17  Flow IAT Max       1536 non-null   int64  \n",
            " 18  Flow IAT Min       1536 non-null   int64  \n",
            " 19  Fwd IAT Tot        1536 non-null   int64  \n",
            " 20  Fwd IAT Mean       1536 non-null   float64\n",
            " 21  Fwd IAT Std        1536 non-null   float64\n",
            " 22  Fwd IAT Max        1536 non-null   int64  \n",
            " 23  Fwd IAT Min        1536 non-null   int64  \n",
            " 24  Bwd IAT Tot        1536 non-null   int64  \n",
            " 25  Bwd IAT Mean       1536 non-null   float64\n",
            " 26  Bwd IAT Std        1536 non-null   float64\n",
            " 27  Bwd IAT Max        1536 non-null   int64  \n",
            " 28  Bwd IAT Min        1536 non-null   int64  \n",
            " 29  Fwd PSH Flags      1536 non-null   int64  \n",
            " 30  Bwd PSH Flags      1536 non-null   int64  \n",
            " 31  Fwd URG Flags      1536 non-null   int64  \n",
            " 32  Bwd URG Flags      1536 non-null   int64  \n",
            " 33  Fwd Header Len     1536 non-null   int64  \n",
            " 34  Bwd Header Len     1536 non-null   int64  \n",
            " 35  Fwd Pkts/s         1536 non-null   float64\n",
            " 36  Bwd Pkts/s         1536 non-null   float64\n",
            " 37  Pkt Len Min        1536 non-null   int64  \n",
            " 38  Pkt Len Max        1536 non-null   int64  \n",
            " 39  Pkt Len Mean       1536 non-null   float64\n",
            " 40  Pkt Len Std        1536 non-null   float64\n",
            " 41  Pkt Len Var        1536 non-null   float64\n",
            " 42  FIN Flag Cnt       1536 non-null   int64  \n",
            " 43  SYN Flag Cnt       1536 non-null   int64  \n",
            " 44  RST Flag Cnt       1536 non-null   int64  \n",
            " 45  PSH Flag Cnt       1536 non-null   int64  \n",
            " 46  ACK Flag Cnt       1536 non-null   int64  \n",
            " 47  URG Flag Cnt       1536 non-null   int64  \n",
            " 48  CWE Flag Count     1536 non-null   int64  \n",
            " 49  ECE Flag Cnt       1536 non-null   int64  \n",
            " 50  Down/Up Ratio      1536 non-null   int64  \n",
            " 51  Pkt Size Avg       1536 non-null   float64\n",
            " 52  Fwd Seg Size Avg   1536 non-null   float64\n",
            " 53  Bwd Seg Size Avg   1536 non-null   float64\n",
            " 54  Fwd Byts/b Avg     1536 non-null   int64  \n",
            " 55  Fwd Pkts/b Avg     1536 non-null   int64  \n",
            " 56  Fwd Blk Rate Avg   1536 non-null   int64  \n",
            " 57  Bwd Byts/b Avg     1536 non-null   int64  \n",
            " 58  Bwd Pkts/b Avg     1536 non-null   int64  \n",
            " 59  Bwd Blk Rate Avg   1536 non-null   int64  \n",
            " 60  Subflow Fwd Pkts   1536 non-null   int64  \n",
            " 61  Subflow Fwd Byts   1536 non-null   int64  \n",
            " 62  Subflow Bwd Pkts   1536 non-null   int64  \n",
            " 63  Subflow Bwd Byts   1536 non-null   int64  \n",
            " 64  Init Fwd Win Byts  1536 non-null   int64  \n",
            " 65  Init Bwd Win Byts  1536 non-null   int64  \n",
            " 66  Fwd Act Data Pkts  1536 non-null   int64  \n",
            " 67  Fwd Seg Size Min   1536 non-null   int64  \n",
            " 68  Active Mean        1536 non-null   float64\n",
            " 69  Active Std         1536 non-null   float64\n",
            " 70  Active Max         1536 non-null   int64  \n",
            " 71  Active Min         1536 non-null   int64  \n",
            " 72  Idle Mean          1536 non-null   float64\n",
            " 73  Idle Std           1536 non-null   float64\n",
            " 74  Idle Max           1536 non-null   int64  \n",
            " 75  Idle Min           1535 non-null   float64\n",
            " 76  Label              1536 non-null   object \n",
            "dtypes: float64(25), int64(51), object(1)\n",
            "memory usage: 924.1+ KB\n"
          ]
        }
      ]
    },
    {
      "cell_type": "code",
      "source": [
        "df_train['Label'] = df_train['Label'].str.lower()\n",
        "df_test['Label'] = df_test['Label'].str.lower()"
      ],
      "metadata": {
        "id": "q9qIXS5VDghy"
      },
      "execution_count": 10,
      "outputs": []
    },
    {
      "cell_type": "code",
      "source": [
        "unique_labels = list(df_train.Label.astype('category').unique())\n",
        "unique_codes = list(df_train.Label.astype('category').cat.codes.unique())\n",
        "mapping = {unique_codes[i] : unique_labels[i] for i in range(len(unique_labels))}\n",
        "mapping\n",
        "\n",
        ""
      ],
      "metadata": {
        "colab": {
          "base_uri": "https://localhost:8080/"
        },
        "id": "xvInnTkGDkhg",
        "outputId": "9fdcec04-6c3a-4d2b-fa9e-41adfaaf66d9"
      },
      "execution_count": 11,
      "outputs": [
        {
          "output_type": "execute_result",
          "data": {
            "text/plain": [
              "{11: 'normal',\n",
              " 0: 'c_ci_na_1',\n",
              " 1: 'c_ci_na_1_dos',\n",
              " 2: 'c_rd_na_1',\n",
              " 3: 'c_rd_na_1_dos',\n",
              " 4: 'c_rp_na_1',\n",
              " 5: 'c_rp_na_1_dos',\n",
              " 6: 'c_sc_na_1',\n",
              " 7: 'c_sc_na_1_dos',\n",
              " 8: 'c_se_na_1',\n",
              " 9: 'c_se_na_1_dos',\n",
              " 10: 'm_sp_na_1_dos'}"
            ]
          },
          "metadata": {},
          "execution_count": 11
        }
      ]
    },
    {
      "cell_type": "code",
      "source": [
        "unique_codes"
      ],
      "metadata": {
        "colab": {
          "base_uri": "https://localhost:8080/"
        },
        "id": "W5EBwqzODmSA",
        "outputId": "f6ebbf59-b954-4d09-aa4b-ca4b5983a813"
      },
      "execution_count": 12,
      "outputs": [
        {
          "output_type": "execute_result",
          "data": {
            "text/plain": [
              "[11, 0, 1, 2, 3, 4, 5, 6, 7, 8, 9, 10]"
            ]
          },
          "metadata": {},
          "execution_count": 12
        }
      ]
    },
    {
      "cell_type": "code",
      "source": [
        "unique_labels"
      ],
      "metadata": {
        "colab": {
          "base_uri": "https://localhost:8080/"
        },
        "id": "4OTe0Z_fDny7",
        "outputId": "9d073204-eed4-4fb4-efb0-a0fc9cbc1369"
      },
      "execution_count": 13,
      "outputs": [
        {
          "output_type": "execute_result",
          "data": {
            "text/plain": [
              "['normal',\n",
              " 'c_ci_na_1',\n",
              " 'c_ci_na_1_dos',\n",
              " 'c_rd_na_1',\n",
              " 'c_rd_na_1_dos',\n",
              " 'c_rp_na_1',\n",
              " 'c_rp_na_1_dos',\n",
              " 'c_sc_na_1',\n",
              " 'c_sc_na_1_dos',\n",
              " 'c_se_na_1',\n",
              " 'c_se_na_1_dos',\n",
              " 'm_sp_na_1_dos']"
            ]
          },
          "metadata": {},
          "execution_count": 13
        }
      ]
    },
    {
      "cell_type": "code",
      "source": [
        "n=len(unique_codes)\n",
        "for i in range(0,n):\n",
        "  if(unique_codes[i]!=11):\n",
        "    unique_codes[i]=1\n",
        "  else:\n",
        "    unique_codes[i]=0\n",
        "unique_codes\n",
        "#0 is normal, 1 is attack"
      ],
      "metadata": {
        "colab": {
          "base_uri": "https://localhost:8080/"
        },
        "id": "OfSddRW9DqYr",
        "outputId": "2603436a-bd05-4c02-b172-cf93fdbdc4dc"
      },
      "execution_count": 14,
      "outputs": [
        {
          "output_type": "execute_result",
          "data": {
            "text/plain": [
              "[0, 1, 1, 1, 1, 1, 1, 1, 1, 1, 1, 1]"
            ]
          },
          "metadata": {},
          "execution_count": 14
        }
      ]
    },
    {
      "cell_type": "code",
      "source": [
        "df_train['Label'] = df_train['Label'].replace(unique_labels, unique_codes)\n",
        "df_test['Label'] = df_test['Label'].replace(unique_labels, unique_codes)"
      ],
      "metadata": {
        "id": "gKi7F6_0Dsb4"
      },
      "execution_count": 15,
      "outputs": []
    },
    {
      "cell_type": "code",
      "source": [
        "train = df_train\n",
        "test = df_test\n",
        "test"
      ],
      "metadata": {
        "colab": {
          "base_uri": "https://localhost:8080/",
          "height": 495
        },
        "id": "cEX5BV-sD4ke",
        "outputId": "c7ca0ef7-0916-454b-8cbd-da01e674e5e7"
      },
      "execution_count": 16,
      "outputs": [
        {
          "output_type": "execute_result",
          "data": {
            "text/plain": [
              "      Flow Duration  Tot Fwd Pkts  Tot Bwd Pkts  TotLen Fwd Pkts  \\\n",
              "0         179662623            17            18              112   \n",
              "1         179674986            17            18              112   \n",
              "2         179678255            16            16               96   \n",
              "3         161832605            15            15               90   \n",
              "4         174456115            21            24              136   \n",
              "...             ...           ...           ...              ...   \n",
              "1531      179424123            70           360              486   \n",
              "1532      179999526            74           361              492   \n",
              "1533      179771716            79           360              498   \n",
              "1534       89905426            36           182              262   \n",
              "1535       89905426            36           182              262   \n",
              "\n",
              "      TotLen Bwd Pkts  Fwd Pkt Len Max  Fwd Pkt Len Min  Fwd Pkt Len Mean  \\\n",
              "0                 184               16                6          6.588235   \n",
              "1                 184               16                6          6.588235   \n",
              "2                 136                6                6          6.000000   \n",
              "3                 130                6                6          6.000000   \n",
              "4                 298               16                6          6.476190   \n",
              "...               ...              ...              ...               ...   \n",
              "1531             8640               12                6          6.942857   \n",
              "1532             8656               12                6          6.648649   \n",
              "1533             8640               12                6          6.303797   \n",
              "1534             4414               22                6          7.277778   \n",
              "1535             4414               22                6          7.277778   \n",
              "\n",
              "      Fwd Pkt Len Std  Bwd Pkt Len Max  ...  Fwd Seg Size Min   Active Mean  \\\n",
              "0            2.425356               32  ...                 0  1.521022e+06   \n",
              "1            2.425356               32  ...                 0  1.539348e+06   \n",
              "2            0.000000               16  ...                 0  1.179574e+06   \n",
              "3            0.000000               16  ...                 0  1.683661e+06   \n",
              "4            2.182179               36  ...                 0  2.218205e+06   \n",
              "...               ...              ...  ...               ...           ...   \n",
              "1531         2.199379               32  ...                 0  0.000000e+00   \n",
              "1532         1.875819               32  ...                 0  0.000000e+00   \n",
              "1533         1.323887               32  ...                 0  0.000000e+00   \n",
              "1534         3.282953               48  ...                 0  0.000000e+00   \n",
              "1535         3.282953               48  ...                 0  0.000000e+00   \n",
              "\n",
              "        Active Std  Active Max  Active Min     Idle Mean      Idle Std  \\\n",
              "0     1.832087e+06     3728995         366  1.345083e+07  6.669294e+06   \n",
              "1     1.855896e+06     3782615        1321  1.343326e+07  6.874232e+06   \n",
              "2     1.635452e+06     3243750         438  1.515475e+07  7.259378e+06   \n",
              "3     2.261315e+06     5837467         269  1.449957e+07  7.318009e+06   \n",
              "4     2.254470e+06     5999865         270  1.206956e+07  7.017426e+06   \n",
              "...            ...         ...         ...           ...           ...   \n",
              "1531  0.000000e+00           0           0  0.000000e+00  0.000000e+00   \n",
              "1532  0.000000e+00           0           0  0.000000e+00  0.000000e+00   \n",
              "1533  0.000000e+00           0           0  0.000000e+00  0.000000e+00   \n",
              "1534  0.000000e+00           0           0  0.000000e+00  0.000000e+00   \n",
              "1535  0.000000e+00           0           0  0.000000e+00  0.000000e+00   \n",
              "\n",
              "      Idle Max   Idle Min  Label  \n",
              "0     20335549  5996814.0      0  \n",
              "1     20324527  5999212.0      0  \n",
              "2     20437536  5996295.0      0  \n",
              "3     20169834  5994329.0      0  \n",
              "4     20684421  5994412.0      0  \n",
              "...        ...        ...    ...  \n",
              "1531         0        0.0      1  \n",
              "1532         0        0.0      1  \n",
              "1533         0        0.0      1  \n",
              "1534         0        0.0      1  \n",
              "1535         0        0.0      1  \n",
              "\n",
              "[1536 rows x 77 columns]"
            ],
            "text/html": [
              "\n",
              "  <div id=\"df-88b795c8-b66c-42af-abd3-8dc471e70fe7\" class=\"colab-df-container\">\n",
              "    <div>\n",
              "<style scoped>\n",
              "    .dataframe tbody tr th:only-of-type {\n",
              "        vertical-align: middle;\n",
              "    }\n",
              "\n",
              "    .dataframe tbody tr th {\n",
              "        vertical-align: top;\n",
              "    }\n",
              "\n",
              "    .dataframe thead th {\n",
              "        text-align: right;\n",
              "    }\n",
              "</style>\n",
              "<table border=\"1\" class=\"dataframe\">\n",
              "  <thead>\n",
              "    <tr style=\"text-align: right;\">\n",
              "      <th></th>\n",
              "      <th>Flow Duration</th>\n",
              "      <th>Tot Fwd Pkts</th>\n",
              "      <th>Tot Bwd Pkts</th>\n",
              "      <th>TotLen Fwd Pkts</th>\n",
              "      <th>TotLen Bwd Pkts</th>\n",
              "      <th>Fwd Pkt Len Max</th>\n",
              "      <th>Fwd Pkt Len Min</th>\n",
              "      <th>Fwd Pkt Len Mean</th>\n",
              "      <th>Fwd Pkt Len Std</th>\n",
              "      <th>Bwd Pkt Len Max</th>\n",
              "      <th>...</th>\n",
              "      <th>Fwd Seg Size Min</th>\n",
              "      <th>Active Mean</th>\n",
              "      <th>Active Std</th>\n",
              "      <th>Active Max</th>\n",
              "      <th>Active Min</th>\n",
              "      <th>Idle Mean</th>\n",
              "      <th>Idle Std</th>\n",
              "      <th>Idle Max</th>\n",
              "      <th>Idle Min</th>\n",
              "      <th>Label</th>\n",
              "    </tr>\n",
              "  </thead>\n",
              "  <tbody>\n",
              "    <tr>\n",
              "      <th>0</th>\n",
              "      <td>179662623</td>\n",
              "      <td>17</td>\n",
              "      <td>18</td>\n",
              "      <td>112</td>\n",
              "      <td>184</td>\n",
              "      <td>16</td>\n",
              "      <td>6</td>\n",
              "      <td>6.588235</td>\n",
              "      <td>2.425356</td>\n",
              "      <td>32</td>\n",
              "      <td>...</td>\n",
              "      <td>0</td>\n",
              "      <td>1.521022e+06</td>\n",
              "      <td>1.832087e+06</td>\n",
              "      <td>3728995</td>\n",
              "      <td>366</td>\n",
              "      <td>1.345083e+07</td>\n",
              "      <td>6.669294e+06</td>\n",
              "      <td>20335549</td>\n",
              "      <td>5996814.0</td>\n",
              "      <td>0</td>\n",
              "    </tr>\n",
              "    <tr>\n",
              "      <th>1</th>\n",
              "      <td>179674986</td>\n",
              "      <td>17</td>\n",
              "      <td>18</td>\n",
              "      <td>112</td>\n",
              "      <td>184</td>\n",
              "      <td>16</td>\n",
              "      <td>6</td>\n",
              "      <td>6.588235</td>\n",
              "      <td>2.425356</td>\n",
              "      <td>32</td>\n",
              "      <td>...</td>\n",
              "      <td>0</td>\n",
              "      <td>1.539348e+06</td>\n",
              "      <td>1.855896e+06</td>\n",
              "      <td>3782615</td>\n",
              "      <td>1321</td>\n",
              "      <td>1.343326e+07</td>\n",
              "      <td>6.874232e+06</td>\n",
              "      <td>20324527</td>\n",
              "      <td>5999212.0</td>\n",
              "      <td>0</td>\n",
              "    </tr>\n",
              "    <tr>\n",
              "      <th>2</th>\n",
              "      <td>179678255</td>\n",
              "      <td>16</td>\n",
              "      <td>16</td>\n",
              "      <td>96</td>\n",
              "      <td>136</td>\n",
              "      <td>6</td>\n",
              "      <td>6</td>\n",
              "      <td>6.000000</td>\n",
              "      <td>0.000000</td>\n",
              "      <td>16</td>\n",
              "      <td>...</td>\n",
              "      <td>0</td>\n",
              "      <td>1.179574e+06</td>\n",
              "      <td>1.635452e+06</td>\n",
              "      <td>3243750</td>\n",
              "      <td>438</td>\n",
              "      <td>1.515475e+07</td>\n",
              "      <td>7.259378e+06</td>\n",
              "      <td>20437536</td>\n",
              "      <td>5996295.0</td>\n",
              "      <td>0</td>\n",
              "    </tr>\n",
              "    <tr>\n",
              "      <th>3</th>\n",
              "      <td>161832605</td>\n",
              "      <td>15</td>\n",
              "      <td>15</td>\n",
              "      <td>90</td>\n",
              "      <td>130</td>\n",
              "      <td>6</td>\n",
              "      <td>6</td>\n",
              "      <td>6.000000</td>\n",
              "      <td>0.000000</td>\n",
              "      <td>16</td>\n",
              "      <td>...</td>\n",
              "      <td>0</td>\n",
              "      <td>1.683661e+06</td>\n",
              "      <td>2.261315e+06</td>\n",
              "      <td>5837467</td>\n",
              "      <td>269</td>\n",
              "      <td>1.449957e+07</td>\n",
              "      <td>7.318009e+06</td>\n",
              "      <td>20169834</td>\n",
              "      <td>5994329.0</td>\n",
              "      <td>0</td>\n",
              "    </tr>\n",
              "    <tr>\n",
              "      <th>4</th>\n",
              "      <td>174456115</td>\n",
              "      <td>21</td>\n",
              "      <td>24</td>\n",
              "      <td>136</td>\n",
              "      <td>298</td>\n",
              "      <td>16</td>\n",
              "      <td>6</td>\n",
              "      <td>6.476190</td>\n",
              "      <td>2.182179</td>\n",
              "      <td>36</td>\n",
              "      <td>...</td>\n",
              "      <td>0</td>\n",
              "      <td>2.218205e+06</td>\n",
              "      <td>2.254470e+06</td>\n",
              "      <td>5999865</td>\n",
              "      <td>270</td>\n",
              "      <td>1.206956e+07</td>\n",
              "      <td>7.017426e+06</td>\n",
              "      <td>20684421</td>\n",
              "      <td>5994412.0</td>\n",
              "      <td>0</td>\n",
              "    </tr>\n",
              "    <tr>\n",
              "      <th>...</th>\n",
              "      <td>...</td>\n",
              "      <td>...</td>\n",
              "      <td>...</td>\n",
              "      <td>...</td>\n",
              "      <td>...</td>\n",
              "      <td>...</td>\n",
              "      <td>...</td>\n",
              "      <td>...</td>\n",
              "      <td>...</td>\n",
              "      <td>...</td>\n",
              "      <td>...</td>\n",
              "      <td>...</td>\n",
              "      <td>...</td>\n",
              "      <td>...</td>\n",
              "      <td>...</td>\n",
              "      <td>...</td>\n",
              "      <td>...</td>\n",
              "      <td>...</td>\n",
              "      <td>...</td>\n",
              "      <td>...</td>\n",
              "      <td>...</td>\n",
              "    </tr>\n",
              "    <tr>\n",
              "      <th>1531</th>\n",
              "      <td>179424123</td>\n",
              "      <td>70</td>\n",
              "      <td>360</td>\n",
              "      <td>486</td>\n",
              "      <td>8640</td>\n",
              "      <td>12</td>\n",
              "      <td>6</td>\n",
              "      <td>6.942857</td>\n",
              "      <td>2.199379</td>\n",
              "      <td>32</td>\n",
              "      <td>...</td>\n",
              "      <td>0</td>\n",
              "      <td>0.000000e+00</td>\n",
              "      <td>0.000000e+00</td>\n",
              "      <td>0</td>\n",
              "      <td>0</td>\n",
              "      <td>0.000000e+00</td>\n",
              "      <td>0.000000e+00</td>\n",
              "      <td>0</td>\n",
              "      <td>0.0</td>\n",
              "      <td>1</td>\n",
              "    </tr>\n",
              "    <tr>\n",
              "      <th>1532</th>\n",
              "      <td>179999526</td>\n",
              "      <td>74</td>\n",
              "      <td>361</td>\n",
              "      <td>492</td>\n",
              "      <td>8656</td>\n",
              "      <td>12</td>\n",
              "      <td>6</td>\n",
              "      <td>6.648649</td>\n",
              "      <td>1.875819</td>\n",
              "      <td>32</td>\n",
              "      <td>...</td>\n",
              "      <td>0</td>\n",
              "      <td>0.000000e+00</td>\n",
              "      <td>0.000000e+00</td>\n",
              "      <td>0</td>\n",
              "      <td>0</td>\n",
              "      <td>0.000000e+00</td>\n",
              "      <td>0.000000e+00</td>\n",
              "      <td>0</td>\n",
              "      <td>0.0</td>\n",
              "      <td>1</td>\n",
              "    </tr>\n",
              "    <tr>\n",
              "      <th>1533</th>\n",
              "      <td>179771716</td>\n",
              "      <td>79</td>\n",
              "      <td>360</td>\n",
              "      <td>498</td>\n",
              "      <td>8640</td>\n",
              "      <td>12</td>\n",
              "      <td>6</td>\n",
              "      <td>6.303797</td>\n",
              "      <td>1.323887</td>\n",
              "      <td>32</td>\n",
              "      <td>...</td>\n",
              "      <td>0</td>\n",
              "      <td>0.000000e+00</td>\n",
              "      <td>0.000000e+00</td>\n",
              "      <td>0</td>\n",
              "      <td>0</td>\n",
              "      <td>0.000000e+00</td>\n",
              "      <td>0.000000e+00</td>\n",
              "      <td>0</td>\n",
              "      <td>0.0</td>\n",
              "      <td>1</td>\n",
              "    </tr>\n",
              "    <tr>\n",
              "      <th>1534</th>\n",
              "      <td>89905426</td>\n",
              "      <td>36</td>\n",
              "      <td>182</td>\n",
              "      <td>262</td>\n",
              "      <td>4414</td>\n",
              "      <td>22</td>\n",
              "      <td>6</td>\n",
              "      <td>7.277778</td>\n",
              "      <td>3.282953</td>\n",
              "      <td>48</td>\n",
              "      <td>...</td>\n",
              "      <td>0</td>\n",
              "      <td>0.000000e+00</td>\n",
              "      <td>0.000000e+00</td>\n",
              "      <td>0</td>\n",
              "      <td>0</td>\n",
              "      <td>0.000000e+00</td>\n",
              "      <td>0.000000e+00</td>\n",
              "      <td>0</td>\n",
              "      <td>0.0</td>\n",
              "      <td>1</td>\n",
              "    </tr>\n",
              "    <tr>\n",
              "      <th>1535</th>\n",
              "      <td>89905426</td>\n",
              "      <td>36</td>\n",
              "      <td>182</td>\n",
              "      <td>262</td>\n",
              "      <td>4414</td>\n",
              "      <td>22</td>\n",
              "      <td>6</td>\n",
              "      <td>7.277778</td>\n",
              "      <td>3.282953</td>\n",
              "      <td>48</td>\n",
              "      <td>...</td>\n",
              "      <td>0</td>\n",
              "      <td>0.000000e+00</td>\n",
              "      <td>0.000000e+00</td>\n",
              "      <td>0</td>\n",
              "      <td>0</td>\n",
              "      <td>0.000000e+00</td>\n",
              "      <td>0.000000e+00</td>\n",
              "      <td>0</td>\n",
              "      <td>0.0</td>\n",
              "      <td>1</td>\n",
              "    </tr>\n",
              "  </tbody>\n",
              "</table>\n",
              "<p>1536 rows × 77 columns</p>\n",
              "</div>\n",
              "    <div class=\"colab-df-buttons\">\n",
              "\n",
              "  <div class=\"colab-df-container\">\n",
              "    <button class=\"colab-df-convert\" onclick=\"convertToInteractive('df-88b795c8-b66c-42af-abd3-8dc471e70fe7')\"\n",
              "            title=\"Convert this dataframe to an interactive table.\"\n",
              "            style=\"display:none;\">\n",
              "\n",
              "  <svg xmlns=\"http://www.w3.org/2000/svg\" height=\"24px\" viewBox=\"0 -960 960 960\">\n",
              "    <path d=\"M120-120v-720h720v720H120Zm60-500h600v-160H180v160Zm220 220h160v-160H400v160Zm0 220h160v-160H400v160ZM180-400h160v-160H180v160Zm440 0h160v-160H620v160ZM180-180h160v-160H180v160Zm440 0h160v-160H620v160Z\"/>\n",
              "  </svg>\n",
              "    </button>\n",
              "\n",
              "  <style>\n",
              "    .colab-df-container {\n",
              "      display:flex;\n",
              "      gap: 12px;\n",
              "    }\n",
              "\n",
              "    .colab-df-convert {\n",
              "      background-color: #E8F0FE;\n",
              "      border: none;\n",
              "      border-radius: 50%;\n",
              "      cursor: pointer;\n",
              "      display: none;\n",
              "      fill: #1967D2;\n",
              "      height: 32px;\n",
              "      padding: 0 0 0 0;\n",
              "      width: 32px;\n",
              "    }\n",
              "\n",
              "    .colab-df-convert:hover {\n",
              "      background-color: #E2EBFA;\n",
              "      box-shadow: 0px 1px 2px rgba(60, 64, 67, 0.3), 0px 1px 3px 1px rgba(60, 64, 67, 0.15);\n",
              "      fill: #174EA6;\n",
              "    }\n",
              "\n",
              "    .colab-df-buttons div {\n",
              "      margin-bottom: 4px;\n",
              "    }\n",
              "\n",
              "    [theme=dark] .colab-df-convert {\n",
              "      background-color: #3B4455;\n",
              "      fill: #D2E3FC;\n",
              "    }\n",
              "\n",
              "    [theme=dark] .colab-df-convert:hover {\n",
              "      background-color: #434B5C;\n",
              "      box-shadow: 0px 1px 3px 1px rgba(0, 0, 0, 0.15);\n",
              "      filter: drop-shadow(0px 1px 2px rgba(0, 0, 0, 0.3));\n",
              "      fill: #FFFFFF;\n",
              "    }\n",
              "  </style>\n",
              "\n",
              "    <script>\n",
              "      const buttonEl =\n",
              "        document.querySelector('#df-88b795c8-b66c-42af-abd3-8dc471e70fe7 button.colab-df-convert');\n",
              "      buttonEl.style.display =\n",
              "        google.colab.kernel.accessAllowed ? 'block' : 'none';\n",
              "\n",
              "      async function convertToInteractive(key) {\n",
              "        const element = document.querySelector('#df-88b795c8-b66c-42af-abd3-8dc471e70fe7');\n",
              "        const dataTable =\n",
              "          await google.colab.kernel.invokeFunction('convertToInteractive',\n",
              "                                                    [key], {});\n",
              "        if (!dataTable) return;\n",
              "\n",
              "        const docLinkHtml = 'Like what you see? Visit the ' +\n",
              "          '<a target=\"_blank\" href=https://colab.research.google.com/notebooks/data_table.ipynb>data table notebook</a>'\n",
              "          + ' to learn more about interactive tables.';\n",
              "        element.innerHTML = '';\n",
              "        dataTable['output_type'] = 'display_data';\n",
              "        await google.colab.output.renderOutput(dataTable, element);\n",
              "        const docLink = document.createElement('div');\n",
              "        docLink.innerHTML = docLinkHtml;\n",
              "        element.appendChild(docLink);\n",
              "      }\n",
              "    </script>\n",
              "  </div>\n",
              "\n",
              "\n",
              "<div id=\"df-bb1053a9-de8b-4f5c-8fd9-920817c5fd7e\">\n",
              "  <button class=\"colab-df-quickchart\" onclick=\"quickchart('df-bb1053a9-de8b-4f5c-8fd9-920817c5fd7e')\"\n",
              "            title=\"Suggest charts\"\n",
              "            style=\"display:none;\">\n",
              "\n",
              "<svg xmlns=\"http://www.w3.org/2000/svg\" height=\"24px\"viewBox=\"0 0 24 24\"\n",
              "     width=\"24px\">\n",
              "    <g>\n",
              "        <path d=\"M19 3H5c-1.1 0-2 .9-2 2v14c0 1.1.9 2 2 2h14c1.1 0 2-.9 2-2V5c0-1.1-.9-2-2-2zM9 17H7v-7h2v7zm4 0h-2V7h2v10zm4 0h-2v-4h2v4z\"/>\n",
              "    </g>\n",
              "</svg>\n",
              "  </button>\n",
              "\n",
              "<style>\n",
              "  .colab-df-quickchart {\n",
              "      --bg-color: #E8F0FE;\n",
              "      --fill-color: #1967D2;\n",
              "      --hover-bg-color: #E2EBFA;\n",
              "      --hover-fill-color: #174EA6;\n",
              "      --disabled-fill-color: #AAA;\n",
              "      --disabled-bg-color: #DDD;\n",
              "  }\n",
              "\n",
              "  [theme=dark] .colab-df-quickchart {\n",
              "      --bg-color: #3B4455;\n",
              "      --fill-color: #D2E3FC;\n",
              "      --hover-bg-color: #434B5C;\n",
              "      --hover-fill-color: #FFFFFF;\n",
              "      --disabled-bg-color: #3B4455;\n",
              "      --disabled-fill-color: #666;\n",
              "  }\n",
              "\n",
              "  .colab-df-quickchart {\n",
              "    background-color: var(--bg-color);\n",
              "    border: none;\n",
              "    border-radius: 50%;\n",
              "    cursor: pointer;\n",
              "    display: none;\n",
              "    fill: var(--fill-color);\n",
              "    height: 32px;\n",
              "    padding: 0;\n",
              "    width: 32px;\n",
              "  }\n",
              "\n",
              "  .colab-df-quickchart:hover {\n",
              "    background-color: var(--hover-bg-color);\n",
              "    box-shadow: 0 1px 2px rgba(60, 64, 67, 0.3), 0 1px 3px 1px rgba(60, 64, 67, 0.15);\n",
              "    fill: var(--button-hover-fill-color);\n",
              "  }\n",
              "\n",
              "  .colab-df-quickchart-complete:disabled,\n",
              "  .colab-df-quickchart-complete:disabled:hover {\n",
              "    background-color: var(--disabled-bg-color);\n",
              "    fill: var(--disabled-fill-color);\n",
              "    box-shadow: none;\n",
              "  }\n",
              "\n",
              "  .colab-df-spinner {\n",
              "    border: 2px solid var(--fill-color);\n",
              "    border-color: transparent;\n",
              "    border-bottom-color: var(--fill-color);\n",
              "    animation:\n",
              "      spin 1s steps(1) infinite;\n",
              "  }\n",
              "\n",
              "  @keyframes spin {\n",
              "    0% {\n",
              "      border-color: transparent;\n",
              "      border-bottom-color: var(--fill-color);\n",
              "      border-left-color: var(--fill-color);\n",
              "    }\n",
              "    20% {\n",
              "      border-color: transparent;\n",
              "      border-left-color: var(--fill-color);\n",
              "      border-top-color: var(--fill-color);\n",
              "    }\n",
              "    30% {\n",
              "      border-color: transparent;\n",
              "      border-left-color: var(--fill-color);\n",
              "      border-top-color: var(--fill-color);\n",
              "      border-right-color: var(--fill-color);\n",
              "    }\n",
              "    40% {\n",
              "      border-color: transparent;\n",
              "      border-right-color: var(--fill-color);\n",
              "      border-top-color: var(--fill-color);\n",
              "    }\n",
              "    60% {\n",
              "      border-color: transparent;\n",
              "      border-right-color: var(--fill-color);\n",
              "    }\n",
              "    80% {\n",
              "      border-color: transparent;\n",
              "      border-right-color: var(--fill-color);\n",
              "      border-bottom-color: var(--fill-color);\n",
              "    }\n",
              "    90% {\n",
              "      border-color: transparent;\n",
              "      border-bottom-color: var(--fill-color);\n",
              "    }\n",
              "  }\n",
              "</style>\n",
              "\n",
              "  <script>\n",
              "    async function quickchart(key) {\n",
              "      const quickchartButtonEl =\n",
              "        document.querySelector('#' + key + ' button');\n",
              "      quickchartButtonEl.disabled = true;  // To prevent multiple clicks.\n",
              "      quickchartButtonEl.classList.add('colab-df-spinner');\n",
              "      try {\n",
              "        const charts = await google.colab.kernel.invokeFunction(\n",
              "            'suggestCharts', [key], {});\n",
              "      } catch (error) {\n",
              "        console.error('Error during call to suggestCharts:', error);\n",
              "      }\n",
              "      quickchartButtonEl.classList.remove('colab-df-spinner');\n",
              "      quickchartButtonEl.classList.add('colab-df-quickchart-complete');\n",
              "    }\n",
              "    (() => {\n",
              "      let quickchartButtonEl =\n",
              "        document.querySelector('#df-bb1053a9-de8b-4f5c-8fd9-920817c5fd7e button');\n",
              "      quickchartButtonEl.style.display =\n",
              "        google.colab.kernel.accessAllowed ? 'block' : 'none';\n",
              "    })();\n",
              "  </script>\n",
              "</div>\n",
              "    </div>\n",
              "  </div>\n"
            ],
            "application/vnd.google.colaboratory.intrinsic+json": {
              "type": "dataframe",
              "variable_name": "df_test"
            }
          },
          "metadata": {},
          "execution_count": 16
        }
      ]
    },
    {
      "cell_type": "code",
      "source": [
        "n_samples = int(df_train.shape[0] / n_workers)\n",
        "n_samples_test = int(df_test.shape[0]/n_workers)\n",
        "assert n_samples > 0, \"Each worker must be assigned at least one data point\""
      ],
      "metadata": {
        "id": "_DujddqYD7eZ"
      },
      "execution_count": 17,
      "outputs": []
    },
    {
      "cell_type": "code",
      "source": [
        "import numpy as np\n",
        "n_epochs = 10\n",
        "shuffle_buffer_size = df_train.shape[0]\n",
        "batch_size = 500\n",
        "prefetch_buffer_size = 100\n",
        "input_shape = df_train.shape[1]-1\n",
        "print(input_shape)\n",
        "output_shape = len(set(unique_codes))\n",
        "print(output_shape)"
      ],
      "metadata": {
        "colab": {
          "base_uri": "https://localhost:8080/"
        },
        "id": "d51h9ZyZD-uV",
        "outputId": "4321b4f0-9a11-42b9-bffe-94e2b8592ba2"
      },
      "execution_count": 18,
      "outputs": [
        {
          "output_type": "stream",
          "name": "stdout",
          "text": [
            "76\n",
            "2\n"
          ]
        }
      ]
    },
    {
      "cell_type": "code",
      "source": [
        "n_epochs = 10\n",
        "shuffle_buffer_size_test = df_test.shape[0]\n",
        "print(shuffle_buffer_size_test, \"shuffle_buffer_size_test\")\n",
        "batch_size_test = 250\n",
        "prefetch_buffer_size_test = 50\n",
        "input_shape_test = df_test.shape[1]-1\n",
        "print(input_shape_test,\"input_shape_test\")\n",
        "output_shape_test = len(set(unique_codes))\n",
        "print(output_shape_test,\"output_shape_test\")\n",
        ""
      ],
      "metadata": {
        "colab": {
          "base_uri": "https://localhost:8080/"
        },
        "id": "vTLS4nTgD_FN",
        "outputId": "f1bff488-4c5b-4017-9515-55a7eaf78155"
      },
      "execution_count": 19,
      "outputs": [
        {
          "output_type": "stream",
          "name": "stdout",
          "text": [
            "1536 shuffle_buffer_size_test\n",
            "76 input_shape_test\n",
            "2 output_shape_test\n"
          ]
        }
      ]
    },
    {
      "cell_type": "code",
      "source": [
        "def preprocess(dataframe):\n",
        "\n",
        "    \"\"\"Flatten a batch `pixels` and return the features as an `OrderedDict`.\"\"\"\n",
        "    def map_fn(dataset):\n",
        "        return collections.OrderedDict(\n",
        "            x=tf.cast(dataset[:,:-1], tf.float64),\n",
        "            y=tf.cast(tf.reshape(dataset[:,-1], shape=(-1, 1)), tf.int64)\n",
        "        )\n",
        "\n",
        "    return tf.data.Dataset.from_tensor_slices(dataframe).repeat(n_epochs).shuffle(\n",
        "        shuffle_buffer_size).batch(batch_size).map(map_fn).prefetch(prefetch_buffer_size)\n",
        "\n",
        "\n",
        "client_data = [preprocess(train.sample(n=n_samples)) for _ in range(n_workers)]"
      ],
      "metadata": {
        "id": "bZ2hCsHsECbj"
      },
      "execution_count": 20,
      "outputs": []
    },
    {
      "cell_type": "code",
      "source": [
        "def preprocess_test(dataframe):\n",
        "\n",
        "    \"\"\"Flatten a batch `pixels` and return the features as an `OrderedDict`.\"\"\"\n",
        "    def map_fn(dataset):\n",
        "        return collections.OrderedDict(\n",
        "            x=tf.cast(dataset[:,:-1], tf.float64),\n",
        "            y=tf.cast(tf.reshape(dataset[:,-1], shape=(-1, 1)), tf.int64)\n",
        "        )\n",
        "\n",
        "    return tf.data.Dataset.from_tensor_slices(dataframe).repeat(n_epochs).shuffle(\n",
        "        shuffle_buffer_size_test).batch(batch_size_test).map(map_fn).prefetch(prefetch_buffer_size_test)\n",
        "\n",
        "\n",
        "client_data_test = [preprocess(test.sample(n=n_samples_test)) for _ in range(n_workers)]"
      ],
      "metadata": {
        "id": "XCbAyWUXEEri"
      },
      "execution_count": 21,
      "outputs": []
    },
    {
      "cell_type": "code",
      "source": [
        "client_data"
      ],
      "metadata": {
        "colab": {
          "base_uri": "https://localhost:8080/"
        },
        "id": "YH1vf1cHEGlm",
        "outputId": "0fe1ec26-a7b2-418f-8f05-3b4c4b95d4c7"
      },
      "execution_count": 22,
      "outputs": [
        {
          "output_type": "execute_result",
          "data": {
            "text/plain": [
              "[<_PrefetchDataset element_spec=OrderedDict([('x', TensorSpec(shape=(None, 76), dtype=tf.float64, name=None)), ('y', TensorSpec(shape=(None, 1), dtype=tf.int64, name=None))])>,\n",
              " <_PrefetchDataset element_spec=OrderedDict([('x', TensorSpec(shape=(None, 76), dtype=tf.float64, name=None)), ('y', TensorSpec(shape=(None, 1), dtype=tf.int64, name=None))])>]"
            ]
          },
          "metadata": {},
          "execution_count": 22
        }
      ]
    },
    {
      "cell_type": "code",
      "source": [
        "client_data_test"
      ],
      "metadata": {
        "colab": {
          "base_uri": "https://localhost:8080/"
        },
        "id": "HofigY7JEHEX",
        "outputId": "7fd30981-464a-4287-ab8f-ed35da4fdc02"
      },
      "execution_count": 23,
      "outputs": [
        {
          "output_type": "execute_result",
          "data": {
            "text/plain": [
              "[<_PrefetchDataset element_spec=OrderedDict([('x', TensorSpec(shape=(None, 76), dtype=tf.float64, name=None)), ('y', TensorSpec(shape=(None, 1), dtype=tf.int64, name=None))])>,\n",
              " <_PrefetchDataset element_spec=OrderedDict([('x', TensorSpec(shape=(None, 76), dtype=tf.float64, name=None)), ('y', TensorSpec(shape=(None, 1), dtype=tf.int64, name=None))])>]"
            ]
          },
          "metadata": {},
          "execution_count": 23
        }
      ]
    },
    {
      "cell_type": "code",
      "source": [
        "for i in range(n_workers):\n",
        "    print(f\"Worker {i+1} data contains {len(client_data[i])} training points\")"
      ],
      "metadata": {
        "colab": {
          "base_uri": "https://localhost:8080/"
        },
        "id": "g7f6w1l9ELlW",
        "outputId": "00dc0ff1-7932-47d0-befe-6d2946fe4b9d"
      },
      "execution_count": 24,
      "outputs": [
        {
          "output_type": "stream",
          "name": "stdout",
          "text": [
            "Worker 1 data contains 36 training points\n",
            "Worker 2 data contains 36 training points\n"
          ]
        }
      ]
    },
    {
      "cell_type": "code",
      "source": [
        "for i in range(n_workers):\n",
        "    print(f\"Worker {i+1} data contains {len(client_data_test[i])} testing points\")"
      ],
      "metadata": {
        "colab": {
          "base_uri": "https://localhost:8080/"
        },
        "id": "MQIbrKMDENN6",
        "outputId": "baf39db2-55fb-44e0-f16e-19a04a8019c9"
      },
      "execution_count": 25,
      "outputs": [
        {
          "output_type": "stream",
          "name": "stdout",
          "text": [
            "Worker 1 data contains 16 testing points\n",
            "Worker 2 data contains 16 testing points\n"
          ]
        }
      ]
    },
    {
      "cell_type": "code",
      "source": [
        "from keras.models import Sequential\n",
        "from keras.layers import Dense, Dropout, Activation, Embedding\n",
        "from keras.layers import LSTM, SimpleRNN, GRU, Bidirectional, BatchNormalization,Convolution1D,MaxPooling1D, Reshape, GlobalAveragePooling1D,Dense,GroupNormalization\n",
        "from tensorflow.keras.metrics import BinaryAccuracy, Precision, Recall"
      ],
      "metadata": {
        "id": "7r3xXxirUUsl"
      },
      "execution_count": 26,
      "outputs": []
    },
    {
      "cell_type": "code",
      "source": [
        "def model_fn():\n",
        "    model = tf.keras.models.Sequential([\n",
        "        tf.keras.layers.InputLayer(input_shape=input_shape),\n",
        "        tf.keras.layers.Reshape((1, -1)),  # Reshape input to have shape (batch_size, 1, input_dim)\n",
        "        tf.keras.layers.Bidirectional(tf.keras.layers.LSTM(32, activation='relu')),\n",
        "        tf.keras.layers.Dense(64, activation='relu'),\n",
        "        tf.keras.layers.Dense(32, activation='relu'),\n",
        "        tf.keras.layers.Dense(1, activation='sigmoid'),\n",
        "    ])\n",
        "    return tff.learning.models.from_keras_model(\n",
        "        model,\n",
        "        input_spec=collections.OrderedDict(\n",
        "            x=tf.TensorSpec(shape=[None, input_shape], dtype=tf.float64),\n",
        "            y=tf.TensorSpec(shape=[None, 1], dtype=tf.int64)),\n",
        "        loss=tf.keras.losses.BinaryCrossentropy(),\n",
        "        metrics=[BinaryAccuracy(), Precision(), Recall(), tf.keras.metrics.SparseCategoricalAccuracy()]\n",
        "        )"
      ],
      "metadata": {
        "id": "RG7yxJSAESZU"
      },
      "execution_count": 27,
      "outputs": []
    },
    {
      "cell_type": "code",
      "source": [
        "trainer = tff.learning.algorithms.build_weighted_fed_avg(\n",
        "    model_fn,\n",
        "    client_optimizer_fn=lambda: tf.keras.optimizers.Adam(learning_rate=0.01, ema_momentum=0.99),\n",
        "    server_optimizer_fn=lambda: tf.keras.optimizers.Adam(learning_rate=1.0)\n",
        "\n",
        ")"
      ],
      "metadata": {
        "id": "HXWE7kD2EZBm"
      },
      "execution_count": 28,
      "outputs": []
    },
    {
      "cell_type": "code",
      "source": [
        "print(trainer.initialize.type_signature.formatted_representation())"
      ],
      "metadata": {
        "colab": {
          "base_uri": "https://localhost:8080/"
        },
        "id": "9TvrRjxIEdCE",
        "outputId": "61f094a0-49d3-4fc1-b6dc-7314eba4fa27"
      },
      "execution_count": 29,
      "outputs": [
        {
          "output_type": "stream",
          "name": "stdout",
          "text": [
            "( -> <\n",
            "  global_model_weights=<\n",
            "    trainable=<\n",
            "      float32[76,128],\n",
            "      float32[32,128],\n",
            "      float32[128],\n",
            "      float32[76,128],\n",
            "      float32[32,128],\n",
            "      float32[128],\n",
            "      float32[64,64],\n",
            "      float32[64],\n",
            "      float32[64,32],\n",
            "      float32[32],\n",
            "      float32[32,1],\n",
            "      float32[1]\n",
            "    >,\n",
            "    non_trainable=<>\n",
            "  >,\n",
            "  distributor=<>,\n",
            "  client_work=<>,\n",
            "  aggregator=<\n",
            "    value_sum_process=<>,\n",
            "    weight_sum_process=<>\n",
            "  >,\n",
            "  finalizer=<\n",
            "    int64,\n",
            "    float32[76,128],\n",
            "    float32[76,128],\n",
            "    float32[32,128],\n",
            "    float32[32,128],\n",
            "    float32[128],\n",
            "    float32[128],\n",
            "    float32[76,128],\n",
            "    float32[76,128],\n",
            "    float32[32,128],\n",
            "    float32[32,128],\n",
            "    float32[128],\n",
            "    float32[128],\n",
            "    float32[64,64],\n",
            "    float32[64,64],\n",
            "    float32[64],\n",
            "    float32[64],\n",
            "    float32[64,32],\n",
            "    float32[64,32],\n",
            "    float32[32],\n",
            "    float32[32],\n",
            "    float32[32,1],\n",
            "    float32[32,1],\n",
            "    float32[1],\n",
            "    float32[1]\n",
            "  >\n",
            ">@SERVER)\n"
          ]
        }
      ]
    },
    {
      "cell_type": "code",
      "source": [
        "def evaluate(num_rounds):\n",
        "    state = trainer.initialize()\n",
        "    for round in range(num_rounds):\n",
        "        t1 = time.time()\n",
        "        result = trainer.next(state, client_data)\n",
        "        state = result.state\n",
        "        train_metrics = result.metrics['client_work']['train']\n",
        "\n",
        "        train_accuracy = train_metrics['binary_accuracy'] * 100\n",
        "        train_precision = train_metrics['precision'] * 100\n",
        "        train_recall = train_metrics['recall']*100\n",
        "\n",
        "\n",
        "        t2 = time.time()\n",
        "        print('Round {} : accuracy {}, Precision {}, Recall {}, round time {}'.format(\n",
        "            round+1, train_accuracy, train_precision,train_recall, t2 - t1))"
      ],
      "metadata": {
        "id": "rnrqC26kEviT"
      },
      "execution_count": 36,
      "outputs": []
    },
    {
      "cell_type": "code",
      "source": [
        "evaluate(10)"
      ],
      "metadata": {
        "colab": {
          "base_uri": "https://localhost:8080/"
        },
        "id": "LReldhcSabOu",
        "outputId": "37218f71-aea4-48c4-ab51-ac31a01588ba"
      },
      "execution_count": 37,
      "outputs": [
        {
          "output_type": "stream",
          "name": "stdout",
          "text": [
            "Round 1 : accuracy 91.02563858032227, Precision 91.20357632637024, Recall 99.78612661361694, round time 1.4930453300476074\n",
            "Round 2 : accuracy 91.02563858032227, Precision 91.20357632637024, Recall 99.78612661361694, round time 1.3273780345916748\n",
            "Round 3 : accuracy 91.02563858032227, Precision 91.20357632637024, Recall 99.78612661361694, round time 1.082923412322998\n",
            "Round 4 : accuracy 91.02563858032227, Precision 91.20357632637024, Recall 99.78612661361694, round time 1.072943925857544\n",
            "Round 5 : accuracy 91.02563858032227, Precision 91.20357632637024, Recall 99.78612661361694, round time 1.1189155578613281\n",
            "Round 6 : accuracy 91.02563858032227, Precision 91.20357632637024, Recall 99.78612661361694, round time 1.1557013988494873\n",
            "Round 7 : accuracy 91.02563858032227, Precision 91.20357632637024, Recall 99.78612661361694, round time 1.0369889736175537\n",
            "Round 8 : accuracy 91.02563858032227, Precision 91.20357632637024, Recall 99.78612661361694, round time 1.5746073722839355\n",
            "Round 9 : accuracy 91.02563858032227, Precision 91.20357632637024, Recall 99.78612661361694, round time 1.8336701393127441\n",
            "Round 10 : accuracy 91.02563858032227, Precision 91.20357632637024, Recall 99.78612661361694, round time 1.9090180397033691\n"
          ]
        }
      ]
    },
    {
      "cell_type": "code",
      "source": [
        "def evaluate_test(num_rounds):\n",
        "    state = trainer.initialize()\n",
        "    for round in range(num_rounds):\n",
        "        t1 = time.time()\n",
        "        result = trainer.next(state, client_data_test)\n",
        "        state = result.state\n",
        "        test_metrics = result.metrics['client_work']['train']\n",
        "\n",
        "        test_accuracy = test_metrics['binary_accuracy'] * 100\n",
        "        test_precision = test_metrics['precision'] * 100\n",
        "        test_recall = test_metrics['recall']*100\n",
        "\n",
        "\n",
        "        t2 = time.time()\n",
        "        print('Round {} : accuracy {}, Precision {}, Recall {}, round time {}'.format(\n",
        "            round+1, test_accuracy, test_precision,test_recall, t2 - t1))"
      ],
      "metadata": {
        "id": "j1Vha16aVUKv"
      },
      "execution_count": 38,
      "outputs": []
    },
    {
      "cell_type": "code",
      "source": [
        "evaluate_test(20)"
      ],
      "metadata": {
        "colab": {
          "base_uri": "https://localhost:8080/"
        },
        "id": "FzQGaLn5VVgk",
        "outputId": "43c5abce-1d9d-4764-cedf-740595a1b323"
      },
      "execution_count": 39,
      "outputs": [
        {
          "output_type": "stream",
          "name": "stdout",
          "text": [
            "Round 1 : accuracy 91.53645634651184, Precision 91.6558027267456, Recall 99.85795617103577, round time 0.6880428791046143\n",
            "Round 2 : accuracy 91.53645634651184, Precision 91.6558027267456, Recall 99.85795617103577, round time 0.7033517360687256\n",
            "Round 3 : accuracy 91.53645634651184, Precision 91.6558027267456, Recall 99.85795617103577, round time 0.7252769470214844\n",
            "Round 4 : accuracy 91.53645634651184, Precision 91.6558027267456, Recall 99.85795617103577, round time 0.6971297264099121\n",
            "Round 5 : accuracy 91.53645634651184, Precision 91.6558027267456, Recall 99.85795617103577, round time 0.6996939182281494\n",
            "Round 6 : accuracy 91.53645634651184, Precision 91.6558027267456, Recall 99.85795617103577, round time 0.7831366062164307\n",
            "Round 7 : accuracy 91.53645634651184, Precision 91.6558027267456, Recall 99.85795617103577, round time 0.8079445362091064\n",
            "Round 8 : accuracy 91.53645634651184, Precision 91.6558027267456, Recall 99.85795617103577, round time 0.780609130859375\n",
            "Round 9 : accuracy 91.53645634651184, Precision 91.6558027267456, Recall 99.85795617103577, round time 0.7497444152832031\n",
            "Round 10 : accuracy 91.53645634651184, Precision 91.6558027267456, Recall 99.85795617103577, round time 0.7474634647369385\n",
            "Round 11 : accuracy 91.53645634651184, Precision 91.6558027267456, Recall 99.85795617103577, round time 0.7512612342834473\n",
            "Round 12 : accuracy 91.53645634651184, Precision 91.6558027267456, Recall 99.85795617103577, round time 0.8017873764038086\n",
            "Round 13 : accuracy 91.53645634651184, Precision 91.6558027267456, Recall 99.85795617103577, round time 1.383192777633667\n",
            "Round 14 : accuracy 91.53645634651184, Precision 91.6558027267456, Recall 99.85795617103577, round time 1.3032584190368652\n",
            "Round 15 : accuracy 91.53645634651184, Precision 91.6558027267456, Recall 99.85795617103577, round time 1.2892749309539795\n",
            "Round 16 : accuracy 91.53645634651184, Precision 91.6558027267456, Recall 99.85795617103577, round time 1.333364486694336\n",
            "Round 17 : accuracy 91.53645634651184, Precision 91.6558027267456, Recall 99.85795617103577, round time 1.0237092971801758\n",
            "Round 18 : accuracy 91.53645634651184, Precision 91.6558027267456, Recall 99.85795617103577, round time 0.6899077892303467\n",
            "Round 19 : accuracy 91.53645634651184, Precision 91.6558027267456, Recall 99.85795617103577, round time 0.7885465621948242\n",
            "Round 20 : accuracy 91.53645634651184, Precision 91.6558027267456, Recall 99.85795617103577, round time 0.7414195537567139\n"
          ]
        }
      ]
    }
  ]
}